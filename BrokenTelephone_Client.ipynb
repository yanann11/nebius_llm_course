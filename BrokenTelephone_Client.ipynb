{
  "nbformat": 4,
  "nbformat_minor": 0,
  "metadata": {
    "colab": {
      "provenance": [],
      "authorship_tag": "ABX9TyMRlcAzJqRvDOW/F6YFB9Ar",
      "include_colab_link": true
    },
    "kernelspec": {
      "name": "python3",
      "display_name": "Python 3"
    },
    "language_info": {
      "name": "python"
    }
  },
  "cells": [
    {
      "cell_type": "markdown",
      "metadata": {
        "id": "view-in-github",
        "colab_type": "text"
      },
      "source": [
        "<a href=\"https://colab.research.google.com/github/yanann11/nebius_llm_course/blob/main/BrokenTelephone_Client.ipynb\" target=\"_parent\"><img src=\"https://colab.research.google.com/assets/colab-badge.svg\" alt=\"Open In Colab\"/></a>"
      ]
    },
    {
      "cell_type": "code",
      "execution_count": null,
      "metadata": {
        "id": "N9XIdEDHjTAa"
      },
      "outputs": [],
      "source": [
        "import requests\n",
        "import matplotlib.pyplot as plt\n",
        "import base64\n",
        "from PIL import Image\n",
        "from io import BytesIO\n",
        "\n",
        "def call_broken_telephone(server_url, starting_prompt, n_rounds=3):\n",
        "    # Prepare the request\n",
        "    data = {\n",
        "        'starting_prompt': starting_prompt,\n",
        "        'n_rounds': n_rounds\n",
        "    }\n",
        "\n",
        "    # Make the request\n",
        "    response = requests.post(f'{server_url}/play', json=data)\n",
        "    response.raise_for_status()\n",
        "\n",
        "    # Process the response\n",
        "    result = response.json()\n",
        "\n",
        "    if result.get('error'):\n",
        "        raise Exception(result['error'])\n",
        "\n",
        "    # Visualize the results\n",
        "    history = result['history']\n",
        "\n",
        "    for i, round_data in enumerate(history):\n",
        "        # Print description\n",
        "        print(f\"\\n{'='*80}\")\n",
        "        print(f\"Round {i+1}\")\n",
        "        print(f\"{'='*80}\")\n",
        "        print(f\"Description: {round_data['description']}\")\n",
        "        print(f\"{'='*80}\")\n",
        "\n",
        "        # Display image\n",
        "        img_data = base64.b64decode(round_data['image'])\n",
        "        img = Image.open(BytesIO(img_data))\n",
        "\n",
        "        plt.figure(figsize=(8, 8))\n",
        "        plt.imshow(img)\n",
        "        plt.axis('off')\n",
        "        plt.title(f'Round {i+1} Image')\n",
        "        plt.show()\n",
        "        plt.close()"
      ]
    },
    {
      "cell_type": "code",
      "source": [
        "server_url = \"<PASTE HERE>\"  # Replace with the URL from the first notebook\n",
        "starting_prompt = \"An elven wizard is studying Machine Learning\"\n",
        "call_broken_telephone(server_url, starting_prompt, n_rounds=3)"
      ],
      "metadata": {
        "id": "-m9YyPf8jd53"
      },
      "execution_count": null,
      "outputs": []
    }
  ]
}