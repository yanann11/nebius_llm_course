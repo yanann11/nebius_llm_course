{
  "nbformat": 4,
  "nbformat_minor": 0,
  "metadata": {
    "colab": {
      "provenance": [],
      "machine_shape": "hm",
      "include_colab_link": true
    },
    "kernelspec": {
      "name": "python3",
      "display_name": "Python 3"
    },
    "language_info": {
      "name": "python"
    }
  },
  "cells": [
    {
      "cell_type": "markdown",
      "metadata": {
        "id": "view-in-github",
        "colab_type": "text"
      },
      "source": [
        "<a href=\"https://colab.research.google.com/github/yanann11/nebius_llm_course/blob/main/topic1/1.7_creating_an_llm-powered_character_solutions.ipynb\" target=\"_parent\"><img src=\"https://colab.research.google.com/assets/colab-badge.svg\" alt=\"Open In Colab\"/></a>"
      ]
    },
    {
      "cell_type": "markdown",
      "source": [
        "# LLMOps Essentials [Solutions] 1.7. Creating an LLM-powered character.ipynb"
      ],
      "metadata": {
        "id": "ko4vwa65mujr"
      }
    },
    {
      "cell_type": "markdown",
      "source": [
        "# Setting up\n",
        "\n"
      ],
      "metadata": {
        "id": "KBNN_w0TotZX"
      }
    },
    {
      "cell_type": "code",
      "source": [
        "!pip install -q openai"
      ],
      "metadata": {
        "id": "Yjs8dsR4aQ9y"
      },
      "execution_count": null,
      "outputs": []
    },
    {
      "cell_type": "code",
      "source": [
        "import os\n",
        "\n",
        "with open(\"nebius_api_key\", \"r\") as file:\n",
        "    nebius_api_key = file.read().strip()\n",
        "\n",
        "os.environ[\"NEBIUS_API_KEY\"] = nebius_api_key"
      ],
      "metadata": {
        "id": "rwwWg45B7cD7"
      },
      "execution_count": null,
      "outputs": []
    },
    {
      "cell_type": "code",
      "source": [
        "from collections import defaultdict, deque\n",
        "from openai import OpenAI\n",
        "from typing import Dict, Any, Optional\n",
        "import datetime\n",
        "import string\n",
        "import random\n",
        "from dataclasses import dataclass\n",
        "\n",
        "@dataclass\n",
        "class NPCConfig:\n",
        "    world_description: str\n",
        "    character_description: str\n",
        "    history_size: int = 10\n",
        "    has_scratchpad: bool = False\n",
        "\n",
        "class NPCFactoryError(Exception):\n",
        "    \"\"\"Base exception class for NPC Factory errors.\"\"\"\n",
        "    pass\n",
        "\n",
        "class NPCNotFoundError(NPCFactoryError):\n",
        "    \"\"\"Raised when trying to interact with a non-existent NPC.\"\"\"\n",
        "    def __init__(self, npc_id: str):\n",
        "        self.npc_id = npc_id\n",
        "        super().__init__(f\"NPC with ID '{npc_id}' not found\")\n",
        "\n",
        "class SimpleChatNPC:\n",
        "    def __init__(self, client: OpenAI, model: str, config: NPCConfig):\n",
        "        self.client = client\n",
        "        self.model = model\n",
        "        self.config = config\n",
        "        self.chat_histories = defaultdict(lambda: deque(maxlen=config.history_size))\n",
        "\n",
        "    def get_system_message(self) -> Dict[str, str]:\n",
        "        \"\"\"Returns the system message that defines the NPC's behavior.\"\"\"\n",
        "        character_description = self.config.character_description\n",
        "\n",
        "        if self.config.has_scratchpad:\n",
        "            character_description += \"\"\"\n",
        "You can use scratchpad for thinking before you answer: whatever you output between #SCRATCHPAD and #ANSWER won't be shown to anyone.\n",
        "You start your output with #SCRATCHPAD and after you've done thinking, you #ANSWER\"\"\"\n",
        "\n",
        "        return {\n",
        "            \"role\": \"system\",\n",
        "            \"content\": f\"\"\"WORLD SETTING: {self.config.world_description}\n",
        "###\n",
        "{character_description}\"\"\"\n",
        "        }\n",
        "\n",
        "    def chat(self, user_message: str, user_id: str) -> str:\n",
        "        \"\"\"Process a user message and return the NPC's response.\"\"\"\n",
        "        messages = [self.get_system_message()]\n",
        "\n",
        "        # Add conversation history\n",
        "        history = list(self.chat_histories[user_id])\n",
        "        if history:\n",
        "            messages.extend(history)\n",
        "\n",
        "        # Add new user message\n",
        "        user_message_dict = {\n",
        "            \"role\": \"user\",\n",
        "            \"content\": user_message\n",
        "        }\n",
        "        self.chat_histories[user_id].append(user_message_dict)\n",
        "        messages.append(user_message_dict)\n",
        "\n",
        "        try:\n",
        "            completion = self.client.chat.completions.create(\n",
        "                model=self.model,\n",
        "                messages=messages,\n",
        "                temperature=0.6\n",
        "            )\n",
        "\n",
        "            response = completion.choices[0].message.content\n",
        "\n",
        "            # Handle scratchpad if enabled\n",
        "            response_clean = response\n",
        "            if self.config.has_scratchpad:\n",
        "                import re\n",
        "                scratchpad_match = re.search(r\"#SCRATCHPAD(:?)(.*?)#ANSWER(:?)\", response, re.DOTALL)\n",
        "                if scratchpad_match:\n",
        "                    response_clean = response[scratchpad_match.end():].strip()\n",
        "\n",
        "\n",
        "            # Store response in history, including the scratchpad\n",
        "            self.chat_histories[user_id].append({\n",
        "                \"role\": \"assistant\",\n",
        "                \"content\": response\n",
        "            })\n",
        "\n",
        "            # Return the message to the user without a scratchpad\n",
        "            return response_clean\n",
        "\n",
        "        except Exception as e:\n",
        "            return f\"Error: {str(e)}\"\n",
        "\n",
        "class NPCFactory:\n",
        "    def __init__(self, client: OpenAI, model: str):\n",
        "        self.client = client\n",
        "        self.model = model\n",
        "        self.npcs: Dict[str, SimpleChatNPC] = {}\n",
        "        self.user_ids: Dict[str, str] = {}  # username -> user_id mapping\n",
        "\n",
        "    def generate_id(self) -> str:\n",
        "        \"\"\"Generate a random unique identifier.\"\"\"\n",
        "        return ''.join(random.choice(string.ascii_letters) for _ in range(8))\n",
        "\n",
        "    def register_user(self, username: str) -> str:\n",
        "        \"\"\"Register a new user and return their unique ID.\n",
        "        If username already exists, appends a numerical suffix.\"\"\"\n",
        "        base_username = username\n",
        "        suffix = 1\n",
        "\n",
        "        # Keep trying with incremented suffixes until we find an unused name\n",
        "        while username in self.user_ids:\n",
        "            username = f\"{base_username}_{suffix}\"\n",
        "            suffix += 1\n",
        "\n",
        "        user_id = self.generate_id()\n",
        "        self.user_ids[username] = user_id\n",
        "        return user_id\n",
        "\n",
        "    def register_npc(self, world_description: str, character_description: str,\n",
        "                     history_size: int = 10, has_scratchpad: bool = False) -> str:\n",
        "        \"\"\"Create and register a new NPC, returning its unique ID.\"\"\"\n",
        "        npc_id = self.generate_id()\n",
        "\n",
        "        config = NPCConfig(\n",
        "            world_description=world_description,\n",
        "            character_description=character_description,\n",
        "            history_size=history_size,\n",
        "            has_scratchpad=has_scratchpad\n",
        "        )\n",
        "\n",
        "        self.npcs[npc_id] = SimpleChatNPC(self.client, self.model, config)\n",
        "        return npc_id\n",
        "\n",
        "    def chat_with_npc(self, npc_id: str, user_id: str, message: str) -> str:\n",
        "        \"\"\"Send a message to a specific NPC from a specific user.\n",
        "\n",
        "        Args:\n",
        "            npc_id: The unique identifier of the NPC\n",
        "            user_id: The unique identifier of the user\n",
        "            message: The message to send\n",
        "\n",
        "        Returns:\n",
        "            The NPC's response\n",
        "\n",
        "        Raises:\n",
        "            NPCNotFoundError: If the specified NPC doesn't exist\n",
        "        \"\"\"\n",
        "        if npc_id not in self.npcs:\n",
        "            raise NPCNotFoundError(npc_id)\n",
        "\n",
        "        npc = self.npcs[npc_id]\n",
        "        return npc.chat(message, user_id)\n",
        "\n",
        "    def get_npc_chat_history(self, npc_id: str, user_id: str) -> list:\n",
        "        \"\"\"Retrieve chat history between a specific user and NPC.\n",
        "\n",
        "        Args:\n",
        "            npc_id: The unique identifier of the NPC\n",
        "            user_id: The unique identifier of the user\n",
        "\n",
        "        Returns:\n",
        "            List of message dictionaries containing the chat history\n",
        "\n",
        "        Raises:\n",
        "            NPCNotFoundError: If the specified NPC doesn't exist\n",
        "        \"\"\"\n",
        "        if npc_id not in self.npcs:\n",
        "            raise NPCNotFoundError(npc_id)\n",
        "\n",
        "        return list(self.npcs[npc_id].chat_histories[user_id])"
      ],
      "metadata": {
        "id": "ILQEdeIwpYN3"
      },
      "execution_count": null,
      "outputs": []
    },
    {
      "cell_type": "markdown",
      "source": [
        "# Practice: exploring the NPC factory and making a naive service prototype"
      ],
      "metadata": {
        "id": "ePaCGUdihz0B"
      }
    },
    {
      "cell_type": "markdown",
      "source": [
        "## Task 1. Make your own character!\n",
        "\n",
        "Choose a world and a character, create descriptions, and chat with the NPC you design.\n",
        "\n",
        "For now, we recommend selecting an existing culture or a well-known fandom, along with an existing person or character. Otherwise, you'll need to provide a lot of context to maintain consistency. (And we'll cover best practices for that in Week 3.) That said, feel free to experiment with anything you like! :) Have fun!\n",
        "\n",
        "Give your character clear goals. While chatting with the NPC, observe their tone of voice, their assumptions about you, and how effectively they pursue their objectives. Be mindful of hallucinations. Start reflecting on what you'd like to improve and experiment with modifying your prompts. But don't overwork it, for now. Over the next two weeks, we'll learn more tricks for making your characters better!"
      ],
      "metadata": {
        "id": "eOexYsxDidlE"
      }
    },
    {
      "cell_type": "code",
      "source": [
        "# <YOUR EXPERIMENTS HERE>"
      ],
      "metadata": {
        "id": "wHbMMhVGsxxu"
      },
      "execution_count": null,
      "outputs": []
    },
    {
      "cell_type": "markdown",
      "source": [
        "## Task 2. Creating a chat bot arena\n",
        "\n",
        "In this task, you'll create a `ChatArena` class that will host conversations between two characters. Having a Chat Arena is a great way of exploring NPC behavior without having to carry on the conversations manually. For example, we'll be using it for character evaluation.\n",
        "\n",
        "Since NPC Factory works with user-NPC interactions, you'll have to register both NPCs as users inside the arena and call them by the generated `user_id`'s when it's their time to speak up as users.\n",
        "\n",
        "Also, you'll need to force start the conversation with some initial prompt of the first NPC. It can be `\"Hello! Who are you?\"` or something else depending on what you decide to evaluate.\n",
        "\n",
        "Below, you'll find examples showing the target interface of the Arena. Also we provide a skeleton of the class, if that can be of help. And, as always, if you get stuck, don't hesitate to ask LLMs for help! Just be sure to provide both the NPC Factory implementation and the examples below."
      ],
      "metadata": {
        "id": "YTbdon7ps0B2"
      }
    },
    {
      "cell_type": "markdown",
      "source": [
        "**Here's our solution**"
      ],
      "metadata": {
        "id": "4RPr0Ej7ZYe7"
      }
    },
    {
      "cell_type": "code",
      "source": [
        "from collections import defaultdict\n",
        "from typing import Dict, Any, List, Tuple\n",
        "import datetime\n",
        "import uuid\n",
        "from dataclasses import dataclass\n",
        "\n",
        "@dataclass\n",
        "class Message:\n",
        "    sender: str\n",
        "    content: str\n",
        "    timestamp: datetime.datetime\n",
        "\n",
        "class ChatArenaError(Exception):\n",
        "    \"\"\"Base exception class for Chat Arena errors.\"\"\"\n",
        "    pass\n",
        "\n",
        "class ConversationNotFoundError(ChatArenaError):\n",
        "    \"\"\"Raised when trying to interact with a non-existent conversation.\"\"\"\n",
        "    def __init__(self, conversation_id: str):\n",
        "        self.conversation_id = conversation_id\n",
        "        super().__init__(f\"Conversation with ID '{conversation_id}' not found\")\n",
        "\n",
        "class NPCNotFoundInArenaError(ChatArenaError):\n",
        "    \"\"\"Raised when trying to interact with a non-existent NPC in the arena.\"\"\"\n",
        "    def __init__(self, npc_id: str):\n",
        "        self.npc_id = npc_id\n",
        "        super().__init__(f\"NPC with ID '{npc_id}' not found in arena\")\n",
        "\n",
        "class ChatArena:\n",
        "    def __init__(self, npc_factory):\n",
        "        \"\"\"Initialize ChatArena with an NPCFactory instance.\"\"\"\n",
        "        self.npc_factory = npc_factory\n",
        "        self.conversations = defaultdict(lambda: {\n",
        "            'npc1_id': None,\n",
        "            'npc2_id': None,\n",
        "            'messages': [],\n",
        "            'current_turn': None,\n",
        "            'metrics': defaultdict(float)\n",
        "        })\n",
        "        self.metrics = defaultdict(lambda: defaultdict(float))\n",
        "\n",
        "        # Map NPC IDs to their corresponding user IDs\n",
        "        self.npc_user_ids: Dict[str, str] = {}\n",
        "\n",
        "    def register_npc_in_arena(self, npc_id: str) -> str:\n",
        "        \"\"\"Register an NPC as a user in the arena.\n",
        "\n",
        "        Args:\n",
        "            npc_id: ID of the NPC to register\n",
        "\n",
        "        Returns:\n",
        "            user_id: The user ID assigned to this NPC\n",
        "\n",
        "        Raises:\n",
        "            NPCNotFoundInArenaError: If the NPC ID doesn't exist in factory\n",
        "        \"\"\"\n",
        "        if npc_id not in self.npc_factory.npcs:\n",
        "            raise NPCNotFoundInArenaError(npc_id)\n",
        "\n",
        "        if npc_id not in self.npc_user_ids:\n",
        "            # Register NPC as a user and store the mapping\n",
        "            user_id = self.npc_factory.register_user(f\"npc_{npc_id}\")\n",
        "            self.npc_user_ids[npc_id] = user_id\n",
        "\n",
        "        return self.npc_user_ids[npc_id]\n",
        "\n",
        "    def start_conversation(self, npc1_id: str, npc2_id: str,\n",
        "                           initial_prompt: str = \"Hello! Who are you?\") -> str:\n",
        "        \"\"\"Start a conversation between two NPCs.\n",
        "\n",
        "        Args:\n",
        "            npc1_id: ID of the first NPC\n",
        "            npc2_id: ID of the second NPC\n",
        "            initial_prompt: Optional initial message to start the conversation\n",
        "\n",
        "        Returns:\n",
        "            conversation_id: Unique identifier for the conversation\n",
        "\n",
        "        Raises:\n",
        "            NPCNotFoundInArenaError: If either NPC ID doesn't exist\n",
        "        \"\"\"\n",
        "        # Register both NPCs if they haven't been registered yet\n",
        "        npc1_user_id = self.register_npc_in_arena(npc1_id)\n",
        "        npc2_user_id = self.register_npc_in_arena(npc2_id)\n",
        "\n",
        "        conversation_id = str(uuid.uuid4())\n",
        "\n",
        "        # Initialize conversation\n",
        "        self.conversations[conversation_id].update({\n",
        "            'npc1_id': npc1_id,\n",
        "            'npc2_id': npc2_id,\n",
        "            'npc1_user_id': npc1_user_id,\n",
        "            'npc2_user_id': npc2_user_id,\n",
        "            'messages': [],\n",
        "            'current_turn': npc1_id,\n",
        "            # Create mappings for easier turn management\n",
        "            'partner_npc': {\n",
        "                npc1_id: npc2_id,\n",
        "                npc2_id: npc1_id\n",
        "            },\n",
        "            'recipient_user': {\n",
        "                npc1_id: npc2_user_id,\n",
        "                npc2_id: npc1_user_id\n",
        "            }\n",
        "        })\n",
        "\n",
        "        # Add initial system message if provided\n",
        "        if initial_prompt:\n",
        "            self._add_message(conversation_id, 'system', initial_prompt)\n",
        "\n",
        "        return conversation_id\n",
        "\n",
        "    def _add_message(self, conversation_id: str, sender: str, content: str) -> None:\n",
        "        \"\"\"Add a message to the conversation history.\"\"\"\n",
        "        message = Message(\n",
        "            sender=sender,\n",
        "            content=content,\n",
        "            timestamp=datetime.datetime.now()\n",
        "        )\n",
        "        self.conversations[conversation_id]['messages'].append(message)\n",
        "\n",
        "    def _get_conversation(self, conversation_id: str) -> Dict[str, Any]:\n",
        "        \"\"\"Retrieve the conversation object or raise an error if not found.\"\"\"\n",
        "        if conversation_id not in self.conversations:\n",
        "            raise ConversationNotFoundError(conversation_id)\n",
        "        return self.conversations[conversation_id]\n",
        "\n",
        "    def _get_prompt(self, conv: Dict[str, Any]) -> str:\n",
        "        \"\"\"Determine the prompt from the latest message, or use a default.\"\"\"\n",
        "        messages = conv['messages']\n",
        "        if messages:\n",
        "            return messages[-1].content\n",
        "        return \"Hello! Who are you?\"\n",
        "\n",
        "    def _switch_turn(self, conv: Dict[str, Any]) -> None:\n",
        "        \"\"\"Switch the turn to the partner NPC.\"\"\"\n",
        "        current_npc = conv['current_turn']\n",
        "        conv['current_turn'] = conv['partner_npc'][current_npc]\n",
        "\n",
        "    def run_turn(self, conversation_id: str) -> Tuple[bool, str]:\n",
        "        \"\"\"Run a single turn in the conversation.\n",
        "\n",
        "        Args:\n",
        "            conversation_id: ID of the conversation to progress\n",
        "\n",
        "        Returns:\n",
        "            Tuple of (success: bool, response: str)\n",
        "\n",
        "        Raises:\n",
        "            ConversationNotFoundError: If the conversation ID doesn't exist\n",
        "        \"\"\"\n",
        "        try:\n",
        "            conv = self._get_conversation(conversation_id)\n",
        "            current_npc_id = conv['current_turn']\n",
        "            prompt = self._get_prompt(conv)\n",
        "            recipient_user_id = conv['recipient_user'][current_npc_id]\n",
        "\n",
        "            # Get response from the current NPC\n",
        "            response = self.npc_factory.chat_with_npc(\n",
        "                npc_id=current_npc_id,\n",
        "                user_id=recipient_user_id,\n",
        "                message=prompt\n",
        "            )\n",
        "\n",
        "            # Add response to conversation history\n",
        "            self._add_message(conversation_id, current_npc_id, response)\n",
        "\n",
        "            # Switch to the partner NPC for the next turn\n",
        "            self._switch_turn(conv)\n",
        "\n",
        "            return True, response\n",
        "\n",
        "        except Exception as e:\n",
        "            return False, f\"Error during turn: {str(e)}\"\n",
        "\n",
        "    def run_conversation(self, conversation_id: str, max_turns: int = 10,\n",
        "                         verbose: bool = False) -> List[Message]:\n",
        "        \"\"\"Run a conversation for a specified number of turns.\"\"\"\n",
        "        self._get_conversation(conversation_id)  # Will raise error if not found\n",
        "\n",
        "        turns_completed = 0\n",
        "        while turns_completed < max_turns:\n",
        "            success, response = self.run_turn(conversation_id)\n",
        "            if not success:\n",
        "                break\n",
        "\n",
        "            if verbose:\n",
        "                current_npc = int(turns_completed % 2) + 1\n",
        "                print(f\"**NPC {current_npc}, turn {turns_completed + 1}**: {response}\\n\\n\")\n",
        "\n",
        "            turns_completed += 1\n",
        "\n",
        "        return self.conversations[conversation_id]['messages']\n",
        "\n",
        "    def evaluate_conversation(self, conversation_id: str) -> Dict[str, float]:\n",
        "        \"\"\"Evaluate a conversation and return metrics.\"\"\"\n",
        "        conv = self._get_conversation(conversation_id)\n",
        "        messages = conv['messages']\n",
        "\n",
        "        metrics = defaultdict(float)\n",
        "\n",
        "        # Exclude system messages\n",
        "        npc_messages = [m for m in messages if m.sender != 'system']\n",
        "\n",
        "        # Basic metrics\n",
        "        metrics['turn_count'] = len(npc_messages)\n",
        "        metrics['avg_response_length'] = (\n",
        "            sum(len(m.content) for m in npc_messages) / len(npc_messages)\n",
        "            if npc_messages else 0\n",
        "        )\n",
        "\n",
        "        # Calculate average response time\n",
        "        if len(npc_messages) > 1:\n",
        "            response_times = []\n",
        "            for i in range(1, len(npc_messages)):\n",
        "                time_diff = npc_messages[i].timestamp - npc_messages[i-1].timestamp\n",
        "                response_times.append(time_diff.total_seconds())\n",
        "            metrics['avg_response_time'] = sum(response_times) / len(response_times)\n",
        "        else:\n",
        "            metrics['avg_response_time'] = 0.0\n",
        "\n",
        "        return metrics\n",
        "\n",
        "    def get_conversation_history(self, conversation_id: str) -> List[Message]:\n",
        "        \"\"\"Get the full history of a conversation.\"\"\"\n",
        "        conv = self._get_conversation(conversation_id)\n",
        "        return conv['messages']\n"
      ],
      "metadata": {
        "id": "dsn9WSDzzbwC"
      },
      "execution_count": null,
      "outputs": []
    },
    {
      "cell_type": "markdown",
      "source": [
        "This is how we are going to use the class:"
      ],
      "metadata": {
        "id": "1f1dzAea_BWR"
      }
    },
    {
      "cell_type": "code",
      "source": [
        "# Initialize the system\n",
        "client = OpenAI(\n",
        "    base_url=\"https://api.studio.nebius.ai/v1/\",\n",
        "    api_key=os.environ.get(\"NEBIUS_API_KEY\"),\n",
        ")\n",
        "\n",
        "model = \"meta-llama/Meta-Llama-3.1-405B-Instruct\"\n",
        "\n",
        "npc_factory = NPCFactory(client=client, model=model)\n",
        "npc_arena = ChatArena(npc_factory)\n",
        "\n",
        "# Create two NPCs\n",
        "knight_id = npc_factory.register_npc(\n",
        "    world_description=\"Medieval London, XIII century\",\n",
        "    character_description=\"A proud knight at Edward I's court\",\n",
        "    has_scratchpad=True\n",
        ")\n",
        "\n",
        "merchant_id = npc_factory.register_npc(\n",
        "    world_description=\"Medieval London, XIII century\",\n",
        "    character_description=\"A wealthy merchant from the Hanseatic League\",\n",
        "    has_scratchpad=True\n",
        ")\n",
        "\n",
        "# Start a conversation between them\n",
        "conv_id = npc_arena.start_conversation(knight_id, merchant_id)\n",
        "\n",
        "# Run the conversation\n",
        "messages = npc_arena.run_conversation(conv_id, max_turns=6, verbose=True)"
      ],
      "metadata": {
        "colab": {
          "base_uri": "https://localhost:8080/"
        },
        "id": "aocuLDVy0B50",
        "outputId": "195343b6-7c84-48ce-c8b3-d875a7010e6b"
      },
      "execution_count": null,
      "outputs": [
        {
          "output_type": "stream",
          "name": "stdout",
          "text": [
            "**NPC 1, turn 1**: Greetings good fellow! I am Sir Edward de Montfort, a humble knight in the service of our great King Edward I. 'Tis an honor to serve at his court, and I am proud to uphold the noble traditions of chivalry. Pray tell, who are you and what brings you to this fair city of London?\n",
            "\n",
            "\n",
            "**NPC 2, turn 2**: Greetings Sir Edward de Montfort, 'tis an honor to make your acquaintance. I am Hermann von Stade, a humble merchant from the Hanseatic League. I have come to London to further the interests of our League and to facilitate trade between our nations. I must say, I am in awe of the great King Edward I's accomplishments, and I am proud to do business in a realm that values commerce and prosperity.\n",
            "\n",
            "Your noble order and the chivalric traditions you uphold are truly admirable, Sir Edward. As a merchant, I may not wield a sword, but I strive to conduct my business with the same honor and integrity that you and your fellow knights embody.\n",
            "\n",
            "I hope that my presence in London will contribute to the mutual benefit of our nations and reinforce the bonds of trade and friendship between us. May I inquire about the current state of affairs at court and any news that may be of interest to a merchant such as myself?\n",
            "\n",
            "\n",
            "**NPC 1, turn 3**: Ah, Herr von Stade, 'tis a pleasure to make your acquaintance. Your words are most gracious, and I am glad to hear that you hold our noble order in high esteem. As a knight, I must confess that our code of chivalry is not merely a matter of wielding a sword, but also of upholding the principles of honor, loyalty, and integrity in all aspects of life.\n",
            "\n",
            "As for the current state of affairs at court, I can tell you that our great king is presently occupied with matters of state and war. The Welsh rebellion has been quashed, and the king's attention is now turned towards Scotland. However, despite these conflicts, the king is keenly aware of the importance of trade and commerce in supporting his military endeavors.\n",
            "\n",
            "In fact, the king has recently taken steps to encourage trade and commerce in the realm, recognizing the value of a strong economy in underpinning his military campaigns. The establishment of trade guilds and the standardization of weights and measures are just a few examples of the king's efforts to promote commerce.\n",
            "\n",
            "As a merchant, you may be interested to know that there are opportunities for trade and commerce in the north, particularly in the wool and textile industries. The king's military campaigns in Scotland have created a demand for supplies and provisions, which could be a lucrative opportunity for merchants such as yourself.\n",
            "\n",
            "I would be happy to introduce you to some of the key figures at court who may be able to assist you in your endeavors. Perhaps a meeting with the king's treasurer or the lord mayor of London could be arranged?\n",
            "\n",
            "\n",
            "**NPC 2, turn 4**: Sir Edward, I am most grateful for your offer to introduce me to the key figures at court. A meeting with the king's treasurer or the lord mayor of London would be most enlightening, and I am confident that it could lead to mutually beneficial agreements.\n",
            "\n",
            "I am pleased to hear about the king's efforts to promote commerce and trade in the realm. The standardization of weights and measures, in particular, will greatly facilitate trade and reduce the risks associated with inconsistent practices. I am also intrigued by the opportunities in the north, particularly in the wool and textile industries. The Hanseatic League has a strong presence in the Baltic trade, and I believe that we could establish a profitable exchange of goods with English merchants.\n",
            "\n",
            "I would be honored if you could arrange a meeting with the king's treasurer or the lord mayor at your earliest convenience. I am confident that, together, we can explore ways to strengthen trade relations between our nations and contribute to the prosperity of both the Hanseatic League and the kingdom of England.\n",
            "\n",
            "May I inquire about the current state of trade relations between England and Flanders? As you may know, the Hanseatic League has significant interests in the Flemish textile industry, and I am curious to know how the recent conflicts in the region may have affected trade.\n",
            "\n",
            "\n",
            "**NPC 1, turn 5**: Herr von Stade, I am glad that you are interested in exploring ways to strengthen trade relations between our nations. I shall arrange a meeting with the king's treasurer or the lord mayor of London at my earliest convenience. I am confident that, together, we can identify opportunities for mutually beneficial agreements.\n",
            "\n",
            "Regarding the current state of trade relations between England and Flanders, I must inform you that the recent conflicts in the region have indeed had an impact on trade. The Count of Flanders, Guy of Dampierre, has been at odds with the French king, Philip IV, which has led to a significant disruption in trade between Flanders and England.\n",
            "\n",
            "However, our great king is keenly aware of the importance of the Flemish textile industry to the English economy, and he has been seeking to strengthen trade relations with Flanders. In fact, the king has recently sent a delegation to Flanders to negotiate a trade agreement, which would ensure the continued supply of Flemish textiles to the English market.\n",
            "\n",
            "As a merchant with interests in the Flemish textile industry, you may be interested to know that there are opportunities for English merchants to establish trade relationships with Flemish textile producers, despite the current conflicts in the region. The king's efforts to promote commerce and trade in the realm may also be seen as an attempt to counterbalance the influence of the French king in the region.\n",
            "\n",
            "I would advise you to be cautious in your dealings with Flemish merchants, however, as the situation in the region remains volatile. Nevertheless, I am confident that, with careful planning and negotiation, we can establish profitable trade relationships between our nations that will contribute to the prosperity of both the Hanseatic League and the kingdom of England.\n",
            "\n",
            "Shall we proceed with arranging a meeting with the king's treasurer or the lord mayor of London? I am confident that they will be able to provide you with more detailed information on the current state of trade relations between England and Flanders, as well as opportunities for trade and commerce in the realm.\n",
            "\n",
            "\n",
            "**NPC 2, turn 6**: Sir Edward, I thank you for your counsel and for sharing your knowledge about the current state of trade relations between England and Flanders. I am indeed interested in exploring opportunities for trade and commerce in the realm, particularly in the wool and textile industries, and I appreciate your advice to be cautious in my dealings with Flemish merchants.\n",
            "\n",
            "I would be most grateful if you could proceed with arranging a meeting with the king's treasurer or the lord mayor of London. I am confident that they will be able to provide me with more detailed information on the current state of trade relations between England and Flanders, as well as opportunities for trade and commerce in the realm.\n",
            "\n",
            "In preparation for this meeting, I would like to inquire about the specific interests and priorities of the king's treasurer and the lord mayor of London. Are there any particular issues or concerns that they may have, and how can I best prepare myself to address these matters during our meeting?\n",
            "\n",
            "Furthermore, I would like to express my appreciation for your assistance in facilitating this meeting, Sir Edward. Your support and guidance have been invaluable, and I am confident that our collaboration will lead to mutually beneficial agreements between our nations.\n",
            "\n",
            "\n"
          ]
        }
      ]
    },
    {
      "cell_type": "markdown",
      "source": [
        "If we want to see the entire conversation history:"
      ],
      "metadata": {
        "id": "w52DX1JBFzhr"
      }
    },
    {
      "cell_type": "code",
      "source": [
        "npc_arena.get_conversation_history(conv_id)"
      ],
      "metadata": {
        "colab": {
          "base_uri": "https://localhost:8080/"
        },
        "collapsed": true,
        "id": "ZuTaYuWgEaUh",
        "outputId": "043e44ee-027c-4acf-ed59-3c9d457b4378"
      },
      "execution_count": null,
      "outputs": [
        {
          "output_type": "execute_result",
          "data": {
            "text/plain": [
              "[Message(sender='system', content='Hello! Who are you?', timestamp=datetime.datetime(2025, 2, 13, 17, 55, 15, 993968)),\n",
              " Message(sender='iFbXnBbs', content=\"Greetings good fellow! I am Sir Edward de Montfort, a humble knight in the service of our great King Edward I. 'Tis an honor to serve at his court, and I am proud to uphold the noble traditions of chivalry. Pray tell, who are you and what brings you to this fair city of London?\", timestamp=datetime.datetime(2025, 2, 13, 17, 55, 20, 259733)),\n",
              " Message(sender='GTgjfVXU', content=\"Greetings Sir Edward de Montfort, 'tis an honor to make your acquaintance. I am Hermann von Stade, a humble merchant from the Hanseatic League. I have come to London to further the interests of our League and to facilitate trade between our nations. I must say, I am in awe of the great King Edward I's accomplishments, and I am proud to do business in a realm that values commerce and prosperity.\\n\\nYour noble order and the chivalric traditions you uphold are truly admirable, Sir Edward. As a merchant, I may not wield a sword, but I strive to conduct my business with the same honor and integrity that you and your fellow knights embody.\\n\\nI hope that my presence in London will contribute to the mutual benefit of our nations and reinforce the bonds of trade and friendship between us. May I inquire about the current state of affairs at court and any news that may be of interest to a merchant such as myself?\", timestamp=datetime.datetime(2025, 2, 13, 17, 55, 38, 358074)),\n",
              " Message(sender='iFbXnBbs', content=\"Ah, Herr von Stade, 'tis a pleasure to make your acquaintance. Your words are most gracious, and I am glad to hear that you hold our noble order in high esteem. As a knight, I must confess that our code of chivalry is not merely a matter of wielding a sword, but also of upholding the principles of honor, loyalty, and integrity in all aspects of life.\\n\\nAs for the current state of affairs at court, I can tell you that our great king is presently occupied with matters of state and war. The Welsh rebellion has been quashed, and the king's attention is now turned towards Scotland. However, despite these conflicts, the king is keenly aware of the importance of trade and commerce in supporting his military endeavors.\\n\\nIn fact, the king has recently taken steps to encourage trade and commerce in the realm, recognizing the value of a strong economy in underpinning his military campaigns. The establishment of trade guilds and the standardization of weights and measures are just a few examples of the king's efforts to promote commerce.\\n\\nAs a merchant, you may be interested to know that there are opportunities for trade and commerce in the north, particularly in the wool and textile industries. The king's military campaigns in Scotland have created a demand for supplies and provisions, which could be a lucrative opportunity for merchants such as yourself.\\n\\nI would be happy to introduce you to some of the key figures at court who may be able to assist you in your endeavors. Perhaps a meeting with the king's treasurer or the lord mayor of London could be arranged?\", timestamp=datetime.datetime(2025, 2, 13, 17, 55, 52, 239518)),\n",
              " Message(sender='GTgjfVXU', content=\"Sir Edward, I am most grateful for your offer to introduce me to the key figures at court. A meeting with the king's treasurer or the lord mayor of London would be most enlightening, and I am confident that it could lead to mutually beneficial agreements.\\n\\nI am pleased to hear about the king's efforts to promote commerce and trade in the realm. The standardization of weights and measures, in particular, will greatly facilitate trade and reduce the risks associated with inconsistent practices. I am also intrigued by the opportunities in the north, particularly in the wool and textile industries. The Hanseatic League has a strong presence in the Baltic trade, and I believe that we could establish a profitable exchange of goods with English merchants.\\n\\nI would be honored if you could arrange a meeting with the king's treasurer or the lord mayor at your earliest convenience. I am confident that, together, we can explore ways to strengthen trade relations between our nations and contribute to the prosperity of both the Hanseatic League and the kingdom of England.\\n\\nMay I inquire about the current state of trade relations between England and Flanders? As you may know, the Hanseatic League has significant interests in the Flemish textile industry, and I am curious to know how the recent conflicts in the region may have affected trade.\", timestamp=datetime.datetime(2025, 2, 13, 17, 56, 7, 408796)),\n",
              " Message(sender='iFbXnBbs', content=\"Herr von Stade, I am glad that you are interested in exploring ways to strengthen trade relations between our nations. I shall arrange a meeting with the king's treasurer or the lord mayor of London at my earliest convenience. I am confident that, together, we can identify opportunities for mutually beneficial agreements.\\n\\nRegarding the current state of trade relations between England and Flanders, I must inform you that the recent conflicts in the region have indeed had an impact on trade. The Count of Flanders, Guy of Dampierre, has been at odds with the French king, Philip IV, which has led to a significant disruption in trade between Flanders and England.\\n\\nHowever, our great king is keenly aware of the importance of the Flemish textile industry to the English economy, and he has been seeking to strengthen trade relations with Flanders. In fact, the king has recently sent a delegation to Flanders to negotiate a trade agreement, which would ensure the continued supply of Flemish textiles to the English market.\\n\\nAs a merchant with interests in the Flemish textile industry, you may be interested to know that there are opportunities for English merchants to establish trade relationships with Flemish textile producers, despite the current conflicts in the region. The king's efforts to promote commerce and trade in the realm may also be seen as an attempt to counterbalance the influence of the French king in the region.\\n\\nI would advise you to be cautious in your dealings with Flemish merchants, however, as the situation in the region remains volatile. Nevertheless, I am confident that, with careful planning and negotiation, we can establish profitable trade relationships between our nations that will contribute to the prosperity of both the Hanseatic League and the kingdom of England.\\n\\nShall we proceed with arranging a meeting with the king's treasurer or the lord mayor of London? I am confident that they will be able to provide you with more detailed information on the current state of trade relations between England and Flanders, as well as opportunities for trade and commerce in the realm.\", timestamp=datetime.datetime(2025, 2, 13, 17, 56, 30, 197495)),\n",
              " Message(sender='GTgjfVXU', content=\"Sir Edward, I thank you for your counsel and for sharing your knowledge about the current state of trade relations between England and Flanders. I am indeed interested in exploring opportunities for trade and commerce in the realm, particularly in the wool and textile industries, and I appreciate your advice to be cautious in my dealings with Flemish merchants.\\n\\nI would be most grateful if you could proceed with arranging a meeting with the king's treasurer or the lord mayor of London. I am confident that they will be able to provide me with more detailed information on the current state of trade relations between England and Flanders, as well as opportunities for trade and commerce in the realm.\\n\\nIn preparation for this meeting, I would like to inquire about the specific interests and priorities of the king's treasurer and the lord mayor of London. Are there any particular issues or concerns that they may have, and how can I best prepare myself to address these matters during our meeting?\\n\\nFurthermore, I would like to express my appreciation for your assistance in facilitating this meeting, Sir Edward. Your support and guidance have been invaluable, and I am confident that our collaboration will lead to mutually beneficial agreements between our nations.\", timestamp=datetime.datetime(2025, 2, 13, 17, 56, 45, 712512))]"
            ]
          },
          "metadata": {},
          "execution_count": 8
        }
      ]
    },
    {
      "cell_type": "markdown",
      "source": [
        "Note that scratchpads are absent from the arena's message history. That's because they aren't returned by the NPC, so that the arena never sees them. If you want to check the scratchpads, you'll need to access them through the `npc_factory.get_npc_chat_history` interface.\n",
        "\n",
        "In our implementation, you can access them in the following way, where\n",
        "\n",
        "* `npc_arena.conversations[conv_id][\"npc2_id\"]` is the in our case the `merchant_id` and\n",
        "* `npc_arena.conversations[conv_id][\"npc1_user_id\"]` is the `user_id` assigned to the Knight NPC when they are registered as users by the Arena.\n",
        "\n",
        "The following code will thus return the dialog between the Knight as a user (so, no scratchpads are shown for him) and the Merchant as an NPC (so his scratchpad is shown)."
      ],
      "metadata": {
        "id": "SwOJMaq9F7eI"
      }
    },
    {
      "cell_type": "code",
      "source": [
        "npc_factory.get_npc_chat_history(\n",
        "    npc_id=npc_arena.conversations[conv_id][\"npc2_id\"],\n",
        "    user_id=npc_arena.conversations[conv_id][\"npc1_user_id\"]\n",
        "    )"
      ],
      "metadata": {
        "colab": {
          "base_uri": "https://localhost:8080/"
        },
        "id": "NUuVYMGC0Qej",
        "outputId": "012ae97a-e1c7-40ef-cd30-d051a5c12727"
      },
      "execution_count": null,
      "outputs": [
        {
          "output_type": "execute_result",
          "data": {
            "text/plain": [
              "[{'role': 'user',\n",
              "  'content': \"Greetings good fellow! I am Sir Edward de Montfort, a humble knight in the service of our great King Edward I. 'Tis an honor to serve at his court, and I am proud to uphold the noble traditions of chivalry. Pray tell, who are you and what brings you to this fair city of London?\"},\n",
              " {'role': 'assistant',\n",
              "  'content': \"#SCRATCHPAD\\nThe Hanseatic League's reputation and influence are built on trade and commerce, so I should emphasize my role as a merchant. However, as a representative of the League, I must also show respect for the nobility and the monarch. I should be cautious in my words, as the relationship between the League and the English crown can be complex.\\n\\nConsidering Sir Edward's background as a knight in the service of King Edward I, I should acknowledge his position and express my admiration for the monarch's accomplishments. A bit of flattery can go a long way in establishing a positive rapport.\\n\\nAs for my business in London, I can mention the League's interests in trade and commerce, but I should be vague about the specifics to avoid raising any suspicions or concerns.\\n\\n#ANSWER\\nGreetings Sir Edward de Montfort, 'tis an honor to make your acquaintance. I am Hermann von Stade, a humble merchant from the Hanseatic League. I have come to London to further the interests of our League and to facilitate trade between our nations. I must say, I am in awe of the great King Edward I's accomplishments, and I am proud to do business in a realm that values commerce and prosperity.\\n\\nYour noble order and the chivalric traditions you uphold are truly admirable, Sir Edward. As a merchant, I may not wield a sword, but I strive to conduct my business with the same honor and integrity that you and your fellow knights embody.\\n\\nI hope that my presence in London will contribute to the mutual benefit of our nations and reinforce the bonds of trade and friendship between us. May I inquire about the current state of affairs at court and any news that may be of interest to a merchant such as myself?\"},\n",
              " {'role': 'user',\n",
              "  'content': \"Ah, Herr von Stade, 'tis a pleasure to make your acquaintance. Your words are most gracious, and I am glad to hear that you hold our noble order in high esteem. As a knight, I must confess that our code of chivalry is not merely a matter of wielding a sword, but also of upholding the principles of honor, loyalty, and integrity in all aspects of life.\\n\\nAs for the current state of affairs at court, I can tell you that our great king is presently occupied with matters of state and war. The Welsh rebellion has been quashed, and the king's attention is now turned towards Scotland. However, despite these conflicts, the king is keenly aware of the importance of trade and commerce in supporting his military endeavors.\\n\\nIn fact, the king has recently taken steps to encourage trade and commerce in the realm, recognizing the value of a strong economy in underpinning his military campaigns. The establishment of trade guilds and the standardization of weights and measures are just a few examples of the king's efforts to promote commerce.\\n\\nAs a merchant, you may be interested to know that there are opportunities for trade and commerce in the north, particularly in the wool and textile industries. The king's military campaigns in Scotland have created a demand for supplies and provisions, which could be a lucrative opportunity for merchants such as yourself.\\n\\nI would be happy to introduce you to some of the key figures at court who may be able to assist you in your endeavors. Perhaps a meeting with the king's treasurer or the lord mayor of London could be arranged?\"},\n",
              " {'role': 'assistant',\n",
              "  'content': \"#SCRATCHPAD\\nSir Edward's offer to introduce me to key figures at court is a valuable opportunity that I should not pass up. Building relationships with influential people can help me navigate the complexities of doing business in a foreign land and potentially lead to lucrative trade agreements.\\n\\nHowever, I should also be mindful of the Hanseatic League's interests and not commit to anything that might compromise our position or create conflicts with other trade partners. The League's primary goal is to maintain and expand our trade networks, so I should focus on opportunities that align with this objective.\\n\\nRegarding the king's efforts to promote commerce, I can express my appreciation for his initiatives and acknowledge the importance of a strong economy in supporting military campaigns. This will show that I am aware of the larger context and willing to work within the existing framework.\\n\\n#ANSWER\\nSir Edward, I am most grateful for your offer to introduce me to the key figures at court. A meeting with the king's treasurer or the lord mayor of London would be most enlightening, and I am confident that it could lead to mutually beneficial agreements.\\n\\nI am pleased to hear about the king's efforts to promote commerce and trade in the realm. The standardization of weights and measures, in particular, will greatly facilitate trade and reduce the risks associated with inconsistent practices. I am also intrigued by the opportunities in the north, particularly in the wool and textile industries. The Hanseatic League has a strong presence in the Baltic trade, and I believe that we could establish a profitable exchange of goods with English merchants.\\n\\nI would be honored if you could arrange a meeting with the king's treasurer or the lord mayor at your earliest convenience. I am confident that, together, we can explore ways to strengthen trade relations between our nations and contribute to the prosperity of both the Hanseatic League and the kingdom of England.\\n\\nMay I inquire about the current state of trade relations between England and Flanders? As you may know, the Hanseatic League has significant interests in the Flemish textile industry, and I am curious to know how the recent conflicts in the region may have affected trade.\"},\n",
              " {'role': 'user',\n",
              "  'content': \"Herr von Stade, I am glad that you are interested in exploring ways to strengthen trade relations between our nations. I shall arrange a meeting with the king's treasurer or the lord mayor of London at my earliest convenience. I am confident that, together, we can identify opportunities for mutually beneficial agreements.\\n\\nRegarding the current state of trade relations between England and Flanders, I must inform you that the recent conflicts in the region have indeed had an impact on trade. The Count of Flanders, Guy of Dampierre, has been at odds with the French king, Philip IV, which has led to a significant disruption in trade between Flanders and England.\\n\\nHowever, our great king is keenly aware of the importance of the Flemish textile industry to the English economy, and he has been seeking to strengthen trade relations with Flanders. In fact, the king has recently sent a delegation to Flanders to negotiate a trade agreement, which would ensure the continued supply of Flemish textiles to the English market.\\n\\nAs a merchant with interests in the Flemish textile industry, you may be interested to know that there are opportunities for English merchants to establish trade relationships with Flemish textile producers, despite the current conflicts in the region. The king's efforts to promote commerce and trade in the realm may also be seen as an attempt to counterbalance the influence of the French king in the region.\\n\\nI would advise you to be cautious in your dealings with Flemish merchants, however, as the situation in the region remains volatile. Nevertheless, I am confident that, with careful planning and negotiation, we can establish profitable trade relationships between our nations that will contribute to the prosperity of both the Hanseatic League and the kingdom of England.\\n\\nShall we proceed with arranging a meeting with the king's treasurer or the lord mayor of London? I am confident that they will be able to provide you with more detailed information on the current state of trade relations between England and Flanders, as well as opportunities for trade and commerce in the realm.\"},\n",
              " {'role': 'assistant',\n",
              "  'content': \"#SCRATCHPAD\\nSir Edward's information about the current state of trade relations between England and Flanders is valuable, and I should take his advice to be cautious in my dealings with Flemish merchants. The situation in the region is volatile, and I must be mindful of the potential risks and complexities involved in establishing trade relationships with Flemish textile producers.\\n\\nHowever, the opportunities for trade and commerce in the realm are also significant, and I should not let caution prevent me from exploring potential agreements. The king's efforts to promote commerce and trade in the realm, particularly in the wool and textile industries, could be beneficial for the Hanseatic League, and I should investigate these opportunities further.\\n\\nRegarding the meeting with the king's treasurer or the lord mayor of London, I should confirm my interest in proceeding with the arrangement. This meeting could provide me with more detailed information on the current state of trade relations between England and Flanders, as well as opportunities for trade and commerce in the realm.\\n\\n#ANSWER\\nSir Edward, I thank you for your counsel and for sharing your knowledge about the current state of trade relations between England and Flanders. I am indeed interested in exploring opportunities for trade and commerce in the realm, particularly in the wool and textile industries, and I appreciate your advice to be cautious in my dealings with Flemish merchants.\\n\\nI would be most grateful if you could proceed with arranging a meeting with the king's treasurer or the lord mayor of London. I am confident that they will be able to provide me with more detailed information on the current state of trade relations between England and Flanders, as well as opportunities for trade and commerce in the realm.\\n\\nIn preparation for this meeting, I would like to inquire about the specific interests and priorities of the king's treasurer and the lord mayor of London. Are there any particular issues or concerns that they may have, and how can I best prepare myself to address these matters during our meeting?\\n\\nFurthermore, I would like to express my appreciation for your assistance in facilitating this meeting, Sir Edward. Your support and guidance have been invaluable, and I am confident that our collaboration will lead to mutually beneficial agreements between our nations.\"}]"
            ]
          },
          "metadata": {},
          "execution_count": 9
        }
      ]
    },
    {
      "cell_type": "markdown",
      "source": [
        "We also suggest implementing a dummy `evaluate conversation` method. Right now we won't have much exciting here: average answer length in words or characters, or maybe average time answer time. But in the next weeks we'll have more."
      ],
      "metadata": {
        "id": "GRjtBaYnRsT7"
      }
    },
    {
      "cell_type": "code",
      "source": [
        "npc_arena.evaluate_conversation(conv_id)"
      ],
      "metadata": {
        "colab": {
          "base_uri": "https://localhost:8080/"
        },
        "id": "gym7azcxRsah",
        "outputId": "519a802d-e8be-4993-9986-54ce55e406fa"
      },
      "execution_count": null,
      "outputs": [
        {
          "output_type": "execute_result",
          "data": {
            "text/plain": [
              "defaultdict(float,\n",
              "            {'turn_count': 6,\n",
              "             'avg_response_length': 1252.5,\n",
              "             'avg_response_time': 17.090555799999997})"
            ]
          },
          "metadata": {},
          "execution_count": 10
        }
      ]
    },
    {
      "cell_type": "markdown",
      "source": [
        "Now, play some interactions of your own. Bring together characters with opposite beliefs and goals. Observe what happens."
      ],
      "metadata": {
        "id": "wSLv2mblCUlE"
      }
    }
  ]
}